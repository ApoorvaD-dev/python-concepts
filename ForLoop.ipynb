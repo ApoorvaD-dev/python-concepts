{
 "cells": [
  {
   "cell_type": "code",
   "execution_count": 2,
   "id": "3e0a4360-353c-4cfd-a5e1-103e3b34bd9c",
   "metadata": {},
   "outputs": [
    {
     "name": "stdout",
     "output_type": "stream",
     "text": [
      "1\n",
      "2\n",
      "3\n",
      "4\n",
      "5\n",
      "6\n",
      "7\n",
      "8\n",
      "9\n",
      "10\n"
     ]
    }
   ],
   "source": [
    "\"\"\" FOR loop - A for loop will execute a block of code a fixed no. of times\"\"\"\n",
    "\"\"\" we can iterate over a range,sequence,string etc\"\"\"\n",
    "\"\"\" better in situations where iteration is over a FIXED no. of times \"\"\"\n",
    "\n",
    "for i in range(1,11): #second no. is exculsive so we write it one up\n",
    "    print(i)"
   ]
  },
  {
   "cell_type": "code",
   "execution_count": 3,
   "id": "92d19a78-a56e-465a-ae55-3348ebb8c3e4",
   "metadata": {},
   "outputs": [
    {
     "name": "stdout",
     "output_type": "stream",
     "text": [
      "10\n",
      "9\n",
      "8\n",
      "7\n",
      "6\n",
      "5\n",
      "4\n",
      "3\n",
      "2\n",
      "1\n"
     ]
    }
   ],
   "source": [
    "# Reversed Range - range function can be enclosed with a reverse function\n",
    "\n",
    "for i in reversed(range(1,11)):\n",
    "    print(i)\n"
   ]
  },
  {
   "cell_type": "code",
   "execution_count": 4,
   "id": "c8a01f62-1fa7-4577-87e6-8a5336395957",
   "metadata": {},
   "outputs": [
    {
     "name": "stdout",
     "output_type": "stream",
     "text": [
      "1\n",
      "4\n",
      "7\n",
      "10\n"
     ]
    }
   ],
   "source": [
    "# count by any number can be done by \n",
    "# here instead of3 we can count by any no. 2,3,4,5 as required\n",
    "\n",
    "for i in range(1,11,3):\n",
    "    print (i)"
   ]
  },
  {
   "cell_type": "code",
   "execution_count": 5,
   "id": "62e1d067-a4ee-4391-a3c3-c47eb603430f",
   "metadata": {},
   "outputs": [
    {
     "name": "stdout",
     "output_type": "stream",
     "text": [
      "1\n",
      "2\n",
      "3\n",
      "4\n",
      "-\n",
      "1\n",
      "2\n",
      "3\n",
      "4\n",
      "-\n",
      "7\n",
      "5\n",
      "5\n",
      "2\n",
      "-\n",
      "4\n",
      "5\n",
      "3\n",
      "2\n"
     ]
    }
   ],
   "source": [
    "# we can also iterate over a string \n",
    "\n",
    "credit_card = \"1234-1234-7552-4532\"\n",
    "for x in credit_card:\n",
    "    print (x)"
   ]
  },
  {
   "cell_type": "code",
   "execution_count": 6,
   "id": "b6f0d11d-6528-4dba-9fc4-e3e234e4032b",
   "metadata": {},
   "outputs": [
    {
     "name": "stdout",
     "output_type": "stream",
     "text": [
      "R\n",
      "i\n",
      "n\n",
      "k\n",
      "u\n"
     ]
    }
   ],
   "source": [
    "# Also works on alphabets\n",
    "\n",
    "name = \"Rinku\"\n",
    "for x in name:\n",
    "    print(x)"
   ]
  },
  {
   "cell_type": "code",
   "execution_count": 15,
   "id": "f180cfba-dfbc-4f40-a535-498bba4c7970",
   "metadata": {},
   "outputs": [
    {
     "name": "stdout",
     "output_type": "stream",
     "text": [
      "1\n",
      "2\n",
      "3\n",
      "4\n",
      "5\n",
      "6\n",
      "7\n",
      "8\n",
      "9\n",
      "10\n",
      "11\n",
      "12\n",
      "14\n",
      "15\n",
      "16\n",
      "17\n",
      "18\n",
      "19\n",
      "20\n"
     ]
    }
   ],
   "source": [
    "\"\"\" CONTINUE & BREAK\"\"\"\n",
    "\"\"\" CONTINUE\"\"\"\n",
    "for x in range(1,21):\n",
    "    if (x ==13):\n",
    "        continue\n",
    "    else:\n",
    "        print (x)"
   ]
  },
  {
   "cell_type": "code",
   "execution_count": 16,
   "id": "423ff30d-64da-4b72-9f84-b073944395eb",
   "metadata": {},
   "outputs": [
    {
     "name": "stdout",
     "output_type": "stream",
     "text": [
      "1\n",
      "2\n",
      "3\n",
      "4\n",
      "5\n",
      "6\n",
      "7\n",
      "8\n",
      "9\n",
      "10\n",
      "11\n",
      "12\n"
     ]
    }
   ],
   "source": [
    "# placing of statements and spaces are important to know if its included in the loop or not\n",
    "# break will escape over a for loop. iteration ends when break is encountered\n",
    "\"\"\"BREAK\"\"\"\n",
    "for x in range(1,21):\n",
    "    if (x ==13):\n",
    "       break\n",
    "    else:\n",
    "        print (x)"
   ]
  },
  {
   "cell_type": "code",
   "execution_count": null,
   "id": "9a85b7ec-c089-43ab-a7fe-c5577c723135",
   "metadata": {},
   "outputs": [],
   "source": []
  }
 ],
 "metadata": {
  "kernelspec": {
   "display_name": "Python 3 (ipykernel)",
   "language": "python",
   "name": "python3"
  },
  "language_info": {
   "codemirror_mode": {
    "name": "ipython",
    "version": 3
   },
   "file_extension": ".py",
   "mimetype": "text/x-python",
   "name": "python",
   "nbconvert_exporter": "python",
   "pygments_lexer": "ipython3",
   "version": "3.13.3"
  }
 },
 "nbformat": 4,
 "nbformat_minor": 5
}
