{
 "cells": [
  {
   "cell_type": "raw",
   "id": "e7f5610e-74bd-44a9-8273-31a71e5a7f24",
   "metadata": {},
   "source": []
  },
  {
   "cell_type": "code",
   "execution_count": 1,
   "id": "692a73d3-1486-4a9c-8ff8-ef1ed018e122",
   "metadata": {},
   "outputs": [
    {
     "name": "stdout",
     "output_type": "stream",
     "text": [
      "Hello,Apoorva\n"
     ]
    }
   ],
   "source": [
    "print(\"Hello,Apoorva\")\n"
   ]
  },
  {
   "cell_type": "code",
   "execution_count": 2,
   "id": "22c15290-50aa-4ff1-874e-0d8342ca9e18",
   "metadata": {},
   "outputs": [
    {
     "name": "stdout",
     "output_type": "stream",
     "text": [
      "this function is used to display things in python\n"
     ]
    }
   ],
   "source": [
    "print(\"this function is used to display things in python\")\n"
   ]
  },
  {
   "cell_type": "code",
   "execution_count": 8,
   "id": "f1b25b2c-6691-4098-85f6-42b6e884da49",
   "metadata": {},
   "outputs": [
    {
     "name": "stdout",
     "output_type": "stream",
     "text": [
      "Apoorva\n",
      "12\n"
     ]
    }
   ],
   "source": [
    "\"\"\"Variables and data types \n",
    "user defined and user input\"\"\"\n",
    "name=\"Apoorva\"             #String#\n",
    "age=10                     #integer#\n",
    "height=5.3                 #float (decimal)#\n",
    "is_coder= True             #boolean#\n",
    "print(name)\n",
    "print(age + 2)\n"
   ]
  },
  {
   "cell_type": "code",
   "execution_count": 13,
   "id": "fa177d63-bb50-4599-8ad5-3ae6aadefc25",
   "metadata": {},
   "outputs": [
    {
     "name": "stdout",
     "output_type": "stream",
     "text": [
      "You can vote \n"
     ]
    }
   ],
   "source": [
    "\"\"\"build logic\"\"\"\n",
    "\"\"\"CONDITIONAL STATEMENT\"\"\"\n",
    "\"\"\" colon after if and else \"\"\"\n",
    "# CHECK if someone is eligible to vote \n",
    "age = 18\n",
    "\n",
    "if age >= 18 :\n",
    "    print(\"You can vote \")\n",
    "else:\n",
    "    print(\"Underage \")"
   ]
  },
  {
   "cell_type": "code",
   "execution_count": null,
   "id": "b8ccf2d3-e346-45a4-b307-bdab44856dca",
   "metadata": {},
   "outputs": [],
   "source": []
  }
 ],
 "metadata": {
  "kernelspec": {
   "display_name": "Python 3 (ipykernel)",
   "language": "python",
   "name": "python3"
  },
  "language_info": {
   "codemirror_mode": {
    "name": "ipython",
    "version": 3
   },
   "file_extension": ".py",
   "mimetype": "text/x-python",
   "name": "python",
   "nbconvert_exporter": "python",
   "pygments_lexer": "ipython3",
   "version": "3.13.3"
  }
 },
 "nbformat": 4,
 "nbformat_minor": 5
}
